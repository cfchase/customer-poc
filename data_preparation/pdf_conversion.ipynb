{
 "cells": [
  {
   "metadata": {
    "ExecuteTime": {
     "end_time": "2024-10-21T18:25:44.158061Z",
     "start_time": "2024-10-21T18:25:34.286115Z"
    }
   },
   "cell_type": "code",
   "source": [
    "!pip install langchain-text-splitters\n",
    "!pip install datasets\n",
    "!pip install rich\n",
    "!pip install docling==1.16.1\n",
    "!pip install docling-parse==1.3.0\n",
    "!pip install click>=8.1.7,<9.0.0\n",
    "!pip install tabulate\n",
    "!pip install transformers\n",
    "!pip install ruamel.yaml\n"
   ],
   "outputs": [
    {
     "name": "stderr",
     "output_type": "stream",
     "text": [
      "huggingface/tokenizers: The current process just got forked, after parallelism has already been used. Disabling parallelism to avoid deadlocks...\n",
      "To disable this warning, you can either:\n",
      "\t- Avoid using `tokenizers` before the fork if possible\n",
      "\t- Explicitly set the environment variable TOKENIZERS_PARALLELISM=(true | false)\n"
     ]
    },
    {
     "name": "stdout",
     "output_type": "stream",
     "text": [
      "Requirement already satisfied: langchain-text-splitters in /Users/cchase/git/github/cfchase/customer-poc/venv/lib/python3.11/site-packages (0.3.0)\r\n",
      "Requirement already satisfied: langchain-core<0.4.0,>=0.3.0 in /Users/cchase/git/github/cfchase/customer-poc/venv/lib/python3.11/site-packages (from langchain-text-splitters) (0.3.12)\r\n",
      "Requirement already satisfied: PyYAML>=5.3 in /Users/cchase/git/github/cfchase/customer-poc/venv/lib/python3.11/site-packages (from langchain-core<0.4.0,>=0.3.0->langchain-text-splitters) (6.0.2)\r\n",
      "Requirement already satisfied: jsonpatch<2.0,>=1.33 in /Users/cchase/git/github/cfchase/customer-poc/venv/lib/python3.11/site-packages (from langchain-core<0.4.0,>=0.3.0->langchain-text-splitters) (1.33)\r\n",
      "Requirement already satisfied: langsmith<0.2.0,>=0.1.125 in /Users/cchase/git/github/cfchase/customer-poc/venv/lib/python3.11/site-packages (from langchain-core<0.4.0,>=0.3.0->langchain-text-splitters) (0.1.136)\r\n",
      "Requirement already satisfied: packaging<25,>=23.2 in /Users/cchase/git/github/cfchase/customer-poc/venv/lib/python3.11/site-packages (from langchain-core<0.4.0,>=0.3.0->langchain-text-splitters) (24.1)\r\n",
      "Requirement already satisfied: pydantic<3.0.0,>=2.5.2 in /Users/cchase/git/github/cfchase/customer-poc/venv/lib/python3.11/site-packages (from langchain-core<0.4.0,>=0.3.0->langchain-text-splitters) (2.9.2)\r\n",
      "Requirement already satisfied: tenacity!=8.4.0,<10.0.0,>=8.1.0 in /Users/cchase/git/github/cfchase/customer-poc/venv/lib/python3.11/site-packages (from langchain-core<0.4.0,>=0.3.0->langchain-text-splitters) (9.0.0)\r\n",
      "Requirement already satisfied: typing-extensions>=4.7 in /Users/cchase/git/github/cfchase/customer-poc/venv/lib/python3.11/site-packages (from langchain-core<0.4.0,>=0.3.0->langchain-text-splitters) (4.12.2)\r\n",
      "Requirement already satisfied: jsonpointer>=1.9 in /Users/cchase/git/github/cfchase/customer-poc/venv/lib/python3.11/site-packages (from jsonpatch<2.0,>=1.33->langchain-core<0.4.0,>=0.3.0->langchain-text-splitters) (3.0.0)\r\n",
      "Requirement already satisfied: httpx<1,>=0.23.0 in /Users/cchase/git/github/cfchase/customer-poc/venv/lib/python3.11/site-packages (from langsmith<0.2.0,>=0.1.125->langchain-core<0.4.0,>=0.3.0->langchain-text-splitters) (0.27.2)\r\n",
      "Requirement already satisfied: orjson<4.0.0,>=3.9.14 in /Users/cchase/git/github/cfchase/customer-poc/venv/lib/python3.11/site-packages (from langsmith<0.2.0,>=0.1.125->langchain-core<0.4.0,>=0.3.0->langchain-text-splitters) (3.10.9)\r\n",
      "Requirement already satisfied: requests<3,>=2 in /Users/cchase/git/github/cfchase/customer-poc/venv/lib/python3.11/site-packages (from langsmith<0.2.0,>=0.1.125->langchain-core<0.4.0,>=0.3.0->langchain-text-splitters) (2.32.3)\r\n",
      "Requirement already satisfied: requests-toolbelt<2.0.0,>=1.0.0 in /Users/cchase/git/github/cfchase/customer-poc/venv/lib/python3.11/site-packages (from langsmith<0.2.0,>=0.1.125->langchain-core<0.4.0,>=0.3.0->langchain-text-splitters) (1.0.0)\r\n",
      "Requirement already satisfied: annotated-types>=0.6.0 in /Users/cchase/git/github/cfchase/customer-poc/venv/lib/python3.11/site-packages (from pydantic<3.0.0,>=2.5.2->langchain-core<0.4.0,>=0.3.0->langchain-text-splitters) (0.7.0)\r\n",
      "Requirement already satisfied: pydantic-core==2.23.4 in /Users/cchase/git/github/cfchase/customer-poc/venv/lib/python3.11/site-packages (from pydantic<3.0.0,>=2.5.2->langchain-core<0.4.0,>=0.3.0->langchain-text-splitters) (2.23.4)\r\n",
      "Requirement already satisfied: anyio in /Users/cchase/git/github/cfchase/customer-poc/venv/lib/python3.11/site-packages (from httpx<1,>=0.23.0->langsmith<0.2.0,>=0.1.125->langchain-core<0.4.0,>=0.3.0->langchain-text-splitters) (4.6.2.post1)\r\n",
      "Requirement already satisfied: certifi in /Users/cchase/git/github/cfchase/customer-poc/venv/lib/python3.11/site-packages (from httpx<1,>=0.23.0->langsmith<0.2.0,>=0.1.125->langchain-core<0.4.0,>=0.3.0->langchain-text-splitters) (2024.8.30)\r\n",
      "Requirement already satisfied: httpcore==1.* in /Users/cchase/git/github/cfchase/customer-poc/venv/lib/python3.11/site-packages (from httpx<1,>=0.23.0->langsmith<0.2.0,>=0.1.125->langchain-core<0.4.0,>=0.3.0->langchain-text-splitters) (1.0.6)\r\n",
      "Requirement already satisfied: idna in /Users/cchase/git/github/cfchase/customer-poc/venv/lib/python3.11/site-packages (from httpx<1,>=0.23.0->langsmith<0.2.0,>=0.1.125->langchain-core<0.4.0,>=0.3.0->langchain-text-splitters) (3.10)\r\n",
      "Requirement already satisfied: sniffio in /Users/cchase/git/github/cfchase/customer-poc/venv/lib/python3.11/site-packages (from httpx<1,>=0.23.0->langsmith<0.2.0,>=0.1.125->langchain-core<0.4.0,>=0.3.0->langchain-text-splitters) (1.3.1)\r\n",
      "Requirement already satisfied: h11<0.15,>=0.13 in /Users/cchase/git/github/cfchase/customer-poc/venv/lib/python3.11/site-packages (from httpcore==1.*->httpx<1,>=0.23.0->langsmith<0.2.0,>=0.1.125->langchain-core<0.4.0,>=0.3.0->langchain-text-splitters) (0.14.0)\r\n",
      "Requirement already satisfied: charset-normalizer<4,>=2 in /Users/cchase/git/github/cfchase/customer-poc/venv/lib/python3.11/site-packages (from requests<3,>=2->langsmith<0.2.0,>=0.1.125->langchain-core<0.4.0,>=0.3.0->langchain-text-splitters) (3.4.0)\r\n",
      "Requirement already satisfied: urllib3<3,>=1.21.1 in /Users/cchase/git/github/cfchase/customer-poc/venv/lib/python3.11/site-packages (from requests<3,>=2->langsmith<0.2.0,>=0.1.125->langchain-core<0.4.0,>=0.3.0->langchain-text-splitters) (2.2.3)\r\n",
      "\r\n",
      "\u001B[1m[\u001B[0m\u001B[34;49mnotice\u001B[0m\u001B[1;39;49m]\u001B[0m\u001B[39;49m A new release of pip is available: \u001B[0m\u001B[31;49m23.2.1\u001B[0m\u001B[39;49m -> \u001B[0m\u001B[32;49m24.2\u001B[0m\r\n",
      "\u001B[1m[\u001B[0m\u001B[34;49mnotice\u001B[0m\u001B[1;39;49m]\u001B[0m\u001B[39;49m To update, run: \u001B[0m\u001B[32;49mpip install --upgrade pip\u001B[0m\r\n"
     ]
    },
    {
     "name": "stderr",
     "output_type": "stream",
     "text": [
      "huggingface/tokenizers: The current process just got forked, after parallelism has already been used. Disabling parallelism to avoid deadlocks...\n",
      "To disable this warning, you can either:\n",
      "\t- Avoid using `tokenizers` before the fork if possible\n",
      "\t- Explicitly set the environment variable TOKENIZERS_PARALLELISM=(true | false)\n"
     ]
    },
    {
     "name": "stdout",
     "output_type": "stream",
     "text": [
      "Requirement already satisfied: datasets in /Users/cchase/git/github/cfchase/customer-poc/venv/lib/python3.11/site-packages (3.0.1)\r\n",
      "Requirement already satisfied: filelock in /Users/cchase/git/github/cfchase/customer-poc/venv/lib/python3.11/site-packages (from datasets) (3.16.1)\r\n",
      "Requirement already satisfied: numpy>=1.17 in /Users/cchase/git/github/cfchase/customer-poc/venv/lib/python3.11/site-packages (from datasets) (1.26.4)\r\n",
      "Requirement already satisfied: pyarrow>=15.0.0 in /Users/cchase/git/github/cfchase/customer-poc/venv/lib/python3.11/site-packages (from datasets) (16.1.0)\r\n",
      "Requirement already satisfied: dill<0.3.9,>=0.3.0 in /Users/cchase/git/github/cfchase/customer-poc/venv/lib/python3.11/site-packages (from datasets) (0.3.8)\r\n",
      "Requirement already satisfied: pandas in /Users/cchase/git/github/cfchase/customer-poc/venv/lib/python3.11/site-packages (from datasets) (2.2.3)\r\n",
      "Requirement already satisfied: requests>=2.32.2 in /Users/cchase/git/github/cfchase/customer-poc/venv/lib/python3.11/site-packages (from datasets) (2.32.3)\r\n",
      "Requirement already satisfied: tqdm>=4.66.3 in /Users/cchase/git/github/cfchase/customer-poc/venv/lib/python3.11/site-packages (from datasets) (4.66.5)\r\n",
      "Requirement already satisfied: xxhash in /Users/cchase/git/github/cfchase/customer-poc/venv/lib/python3.11/site-packages (from datasets) (3.5.0)\r\n",
      "Requirement already satisfied: multiprocess in /Users/cchase/git/github/cfchase/customer-poc/venv/lib/python3.11/site-packages (from datasets) (0.70.16)\r\n",
      "Requirement already satisfied: fsspec[http]<=2024.6.1,>=2023.1.0 in /Users/cchase/git/github/cfchase/customer-poc/venv/lib/python3.11/site-packages (from datasets) (2024.6.1)\r\n",
      "Requirement already satisfied: aiohttp in /Users/cchase/git/github/cfchase/customer-poc/venv/lib/python3.11/site-packages (from datasets) (3.10.10)\r\n",
      "Requirement already satisfied: huggingface-hub>=0.22.0 in /Users/cchase/git/github/cfchase/customer-poc/venv/lib/python3.11/site-packages (from datasets) (0.26.1)\r\n",
      "Requirement already satisfied: packaging in /Users/cchase/git/github/cfchase/customer-poc/venv/lib/python3.11/site-packages (from datasets) (24.1)\r\n",
      "Requirement already satisfied: pyyaml>=5.1 in /Users/cchase/git/github/cfchase/customer-poc/venv/lib/python3.11/site-packages (from datasets) (6.0.2)\r\n",
      "Requirement already satisfied: aiohappyeyeballs>=2.3.0 in /Users/cchase/git/github/cfchase/customer-poc/venv/lib/python3.11/site-packages (from aiohttp->datasets) (2.4.3)\r\n",
      "Requirement already satisfied: aiosignal>=1.1.2 in /Users/cchase/git/github/cfchase/customer-poc/venv/lib/python3.11/site-packages (from aiohttp->datasets) (1.3.1)\r\n",
      "Requirement already satisfied: attrs>=17.3.0 in /Users/cchase/git/github/cfchase/customer-poc/venv/lib/python3.11/site-packages (from aiohttp->datasets) (24.2.0)\r\n",
      "Requirement already satisfied: frozenlist>=1.1.1 in /Users/cchase/git/github/cfchase/customer-poc/venv/lib/python3.11/site-packages (from aiohttp->datasets) (1.4.1)\r\n",
      "Requirement already satisfied: multidict<7.0,>=4.5 in /Users/cchase/git/github/cfchase/customer-poc/venv/lib/python3.11/site-packages (from aiohttp->datasets) (6.1.0)\r\n",
      "Requirement already satisfied: yarl<2.0,>=1.12.0 in /Users/cchase/git/github/cfchase/customer-poc/venv/lib/python3.11/site-packages (from aiohttp->datasets) (1.15.5)\r\n",
      "Requirement already satisfied: typing-extensions>=3.7.4.3 in /Users/cchase/git/github/cfchase/customer-poc/venv/lib/python3.11/site-packages (from huggingface-hub>=0.22.0->datasets) (4.12.2)\r\n",
      "Requirement already satisfied: charset-normalizer<4,>=2 in /Users/cchase/git/github/cfchase/customer-poc/venv/lib/python3.11/site-packages (from requests>=2.32.2->datasets) (3.4.0)\r\n",
      "Requirement already satisfied: idna<4,>=2.5 in /Users/cchase/git/github/cfchase/customer-poc/venv/lib/python3.11/site-packages (from requests>=2.32.2->datasets) (3.10)\r\n",
      "Requirement already satisfied: urllib3<3,>=1.21.1 in /Users/cchase/git/github/cfchase/customer-poc/venv/lib/python3.11/site-packages (from requests>=2.32.2->datasets) (2.2.3)\r\n",
      "Requirement already satisfied: certifi>=2017.4.17 in /Users/cchase/git/github/cfchase/customer-poc/venv/lib/python3.11/site-packages (from requests>=2.32.2->datasets) (2024.8.30)\r\n",
      "Requirement already satisfied: python-dateutil>=2.8.2 in /Users/cchase/git/github/cfchase/customer-poc/venv/lib/python3.11/site-packages (from pandas->datasets) (2.9.0.post0)\r\n",
      "Requirement already satisfied: pytz>=2020.1 in /Users/cchase/git/github/cfchase/customer-poc/venv/lib/python3.11/site-packages (from pandas->datasets) (2024.2)\r\n",
      "Requirement already satisfied: tzdata>=2022.7 in /Users/cchase/git/github/cfchase/customer-poc/venv/lib/python3.11/site-packages (from pandas->datasets) (2024.2)\r\n",
      "Requirement already satisfied: six>=1.5 in /Users/cchase/git/github/cfchase/customer-poc/venv/lib/python3.11/site-packages (from python-dateutil>=2.8.2->pandas->datasets) (1.16.0)\r\n",
      "Requirement already satisfied: propcache>=0.2.0 in /Users/cchase/git/github/cfchase/customer-poc/venv/lib/python3.11/site-packages (from yarl<2.0,>=1.12.0->aiohttp->datasets) (0.2.0)\r\n",
      "\r\n",
      "\u001B[1m[\u001B[0m\u001B[34;49mnotice\u001B[0m\u001B[1;39;49m]\u001B[0m\u001B[39;49m A new release of pip is available: \u001B[0m\u001B[31;49m23.2.1\u001B[0m\u001B[39;49m -> \u001B[0m\u001B[32;49m24.2\u001B[0m\r\n",
      "\u001B[1m[\u001B[0m\u001B[34;49mnotice\u001B[0m\u001B[1;39;49m]\u001B[0m\u001B[39;49m To update, run: \u001B[0m\u001B[32;49mpip install --upgrade pip\u001B[0m\r\n"
     ]
    },
    {
     "name": "stderr",
     "output_type": "stream",
     "text": [
      "huggingface/tokenizers: The current process just got forked, after parallelism has already been used. Disabling parallelism to avoid deadlocks...\n",
      "To disable this warning, you can either:\n",
      "\t- Avoid using `tokenizers` before the fork if possible\n",
      "\t- Explicitly set the environment variable TOKENIZERS_PARALLELISM=(true | false)\n"
     ]
    },
    {
     "name": "stdout",
     "output_type": "stream",
     "text": [
      "Requirement already satisfied: rich in /Users/cchase/git/github/cfchase/customer-poc/venv/lib/python3.11/site-packages (13.9.2)\r\n",
      "Requirement already satisfied: markdown-it-py>=2.2.0 in /Users/cchase/git/github/cfchase/customer-poc/venv/lib/python3.11/site-packages (from rich) (3.0.0)\r\n",
      "Requirement already satisfied: pygments<3.0.0,>=2.13.0 in /Users/cchase/git/github/cfchase/customer-poc/venv/lib/python3.11/site-packages (from rich) (2.18.0)\r\n",
      "Requirement already satisfied: mdurl~=0.1 in /Users/cchase/git/github/cfchase/customer-poc/venv/lib/python3.11/site-packages (from markdown-it-py>=2.2.0->rich) (0.1.2)\r\n",
      "\r\n",
      "\u001B[1m[\u001B[0m\u001B[34;49mnotice\u001B[0m\u001B[1;39;49m]\u001B[0m\u001B[39;49m A new release of pip is available: \u001B[0m\u001B[31;49m23.2.1\u001B[0m\u001B[39;49m -> \u001B[0m\u001B[32;49m24.2\u001B[0m\r\n",
      "\u001B[1m[\u001B[0m\u001B[34;49mnotice\u001B[0m\u001B[1;39;49m]\u001B[0m\u001B[39;49m To update, run: \u001B[0m\u001B[32;49mpip install --upgrade pip\u001B[0m\r\n"
     ]
    },
    {
     "name": "stderr",
     "output_type": "stream",
     "text": [
      "huggingface/tokenizers: The current process just got forked, after parallelism has already been used. Disabling parallelism to avoid deadlocks...\n",
      "To disable this warning, you can either:\n",
      "\t- Avoid using `tokenizers` before the fork if possible\n",
      "\t- Explicitly set the environment variable TOKENIZERS_PARALLELISM=(true | false)\n"
     ]
    },
    {
     "name": "stdout",
     "output_type": "stream",
     "text": [
      "Requirement already satisfied: docling==1.16.1 in /Users/cchase/git/github/cfchase/customer-poc/venv/lib/python3.11/site-packages (1.16.1)\r\n",
      "Requirement already satisfied: certifi>=2024.7.4 in /Users/cchase/git/github/cfchase/customer-poc/venv/lib/python3.11/site-packages (from docling==1.16.1) (2024.8.30)\r\n",
      "Requirement already satisfied: deepsearch-glm<0.22.0,>=0.21.1 in /Users/cchase/git/github/cfchase/customer-poc/venv/lib/python3.11/site-packages (from docling==1.16.1) (0.21.1)\r\n",
      "Requirement already satisfied: docling-core<2.0.0,>=1.6.2 in /Users/cchase/git/github/cfchase/customer-poc/venv/lib/python3.11/site-packages (from docling==1.16.1) (1.7.2)\r\n",
      "Requirement already satisfied: docling-ibm-models<2.0.0,>=1.3.1 in /Users/cchase/git/github/cfchase/customer-poc/venv/lib/python3.11/site-packages (from docling==1.16.1) (1.3.3)\r\n",
      "Requirement already satisfied: docling-parse<2.0.0,>=1.2.0 in /Users/cchase/git/github/cfchase/customer-poc/venv/lib/python3.11/site-packages (from docling==1.16.1) (1.3.0)\r\n",
      "Requirement already satisfied: easyocr<2.0,>=1.7 in /Users/cchase/git/github/cfchase/customer-poc/venv/lib/python3.11/site-packages (from docling==1.16.1) (1.7.2)\r\n",
      "Requirement already satisfied: filetype<2.0.0,>=1.2.0 in /Users/cchase/git/github/cfchase/customer-poc/venv/lib/python3.11/site-packages (from docling==1.16.1) (1.2.0)\r\n",
      "Requirement already satisfied: huggingface_hub<1,>=0.23 in /Users/cchase/git/github/cfchase/customer-poc/venv/lib/python3.11/site-packages (from docling==1.16.1) (0.26.1)\r\n",
      "Requirement already satisfied: pyarrow<17.0.0,>=16.1.0 in /Users/cchase/git/github/cfchase/customer-poc/venv/lib/python3.11/site-packages (from docling==1.16.1) (16.1.0)\r\n",
      "Requirement already satisfied: pydantic<3.0.0,>=2.0.0 in /Users/cchase/git/github/cfchase/customer-poc/venv/lib/python3.11/site-packages (from docling==1.16.1) (2.9.2)\r\n",
      "Requirement already satisfied: pydantic-settings<3.0.0,>=2.3.0 in /Users/cchase/git/github/cfchase/customer-poc/venv/lib/python3.11/site-packages (from docling==1.16.1) (2.6.0)\r\n",
      "Requirement already satisfied: pypdfium2<5.0.0,>=4.30.0 in /Users/cchase/git/github/cfchase/customer-poc/venv/lib/python3.11/site-packages (from docling==1.16.1) (4.30.0)\r\n",
      "Requirement already satisfied: requests<3.0.0,>=2.32.3 in /Users/cchase/git/github/cfchase/customer-poc/venv/lib/python3.11/site-packages (from docling==1.16.1) (2.32.3)\r\n",
      "Requirement already satisfied: rtree<2.0.0,>=1.3.0 in /Users/cchase/git/github/cfchase/customer-poc/venv/lib/python3.11/site-packages (from docling==1.16.1) (1.3.0)\r\n",
      "Requirement already satisfied: scipy<2.0.0,>=1.14.1 in /Users/cchase/git/github/cfchase/customer-poc/venv/lib/python3.11/site-packages (from docling==1.16.1) (1.14.1)\r\n",
      "Requirement already satisfied: torch<3.0.0,>=2.2.2 in /Users/cchase/git/github/cfchase/customer-poc/venv/lib/python3.11/site-packages (from docling==1.16.1) (2.5.0)\r\n",
      "Requirement already satisfied: torchvision<1,>=0 in /Users/cchase/git/github/cfchase/customer-poc/venv/lib/python3.11/site-packages (from docling==1.16.1) (0.20.0)\r\n",
      "Requirement already satisfied: typer<0.13.0,>=0.12.5 in /Users/cchase/git/github/cfchase/customer-poc/venv/lib/python3.11/site-packages (from docling==1.16.1) (0.12.5)\r\n",
      "Requirement already satisfied: docutils!=0.21 in /Users/cchase/git/github/cfchase/customer-poc/venv/lib/python3.11/site-packages (from deepsearch-glm<0.22.0,>=0.21.1->docling==1.16.1) (0.21.2)\r\n",
      "Requirement already satisfied: matplotlib<4.0.0,>=3.7.1 in /Users/cchase/git/github/cfchase/customer-poc/venv/lib/python3.11/site-packages (from deepsearch-glm<0.22.0,>=0.21.1->docling==1.16.1) (3.9.2)\r\n",
      "Requirement already satisfied: networkx<4.0,>=3.1 in /Users/cchase/git/github/cfchase/customer-poc/venv/lib/python3.11/site-packages (from deepsearch-glm<0.22.0,>=0.21.1->docling==1.16.1) (3.4.2)\r\n",
      "Requirement already satisfied: netwulf<0.2.0,>=0.1.5 in /Users/cchase/git/github/cfchase/customer-poc/venv/lib/python3.11/site-packages (from deepsearch-glm<0.22.0,>=0.21.1->docling==1.16.1) (0.1.5)\r\n",
      "Requirement already satisfied: numerize<0.13,>=0.12 in /Users/cchase/git/github/cfchase/customer-poc/venv/lib/python3.11/site-packages (from deepsearch-glm<0.22.0,>=0.21.1->docling==1.16.1) (0.12)\r\n",
      "Requirement already satisfied: numpy<2.0.0,>=1.26.4 in /Users/cchase/git/github/cfchase/customer-poc/venv/lib/python3.11/site-packages (from deepsearch-glm<0.22.0,>=0.21.1->docling==1.16.1) (1.26.4)\r\n",
      "Requirement already satisfied: pandas>=1.5.1 in /Users/cchase/git/github/cfchase/customer-poc/venv/lib/python3.11/site-packages (from deepsearch-glm<0.22.0,>=0.21.1->docling==1.16.1) (2.2.3)\r\n",
      "Requirement already satisfied: python-dotenv<2.0.0,>=1.0.0 in /Users/cchase/git/github/cfchase/customer-poc/venv/lib/python3.11/site-packages (from deepsearch-glm<0.22.0,>=0.21.1->docling==1.16.1) (1.0.1)\r\n",
      "Requirement already satisfied: rich<14.0.0,>=13.7.0 in /Users/cchase/git/github/cfchase/customer-poc/venv/lib/python3.11/site-packages (from deepsearch-glm<0.22.0,>=0.21.1->docling==1.16.1) (13.9.2)\r\n",
      "Requirement already satisfied: tabulate>=0.8.9 in /Users/cchase/git/github/cfchase/customer-poc/venv/lib/python3.11/site-packages (from deepsearch-glm<0.22.0,>=0.21.1->docling==1.16.1) (0.9.0)\r\n",
      "Requirement already satisfied: tqdm<5.0.0,>=4.64.0 in /Users/cchase/git/github/cfchase/customer-poc/venv/lib/python3.11/site-packages (from deepsearch-glm<0.22.0,>=0.21.1->docling==1.16.1) (4.66.5)\r\n",
      "Requirement already satisfied: json-schema-for-humans<2.0.0,>=1.0.0 in /Users/cchase/git/github/cfchase/customer-poc/venv/lib/python3.11/site-packages (from docling-core<2.0.0,>=1.6.2->docling==1.16.1) (1.0.2)\r\n",
      "Requirement already satisfied: jsonref<2.0.0,>=1.1.0 in /Users/cchase/git/github/cfchase/customer-poc/venv/lib/python3.11/site-packages (from docling-core<2.0.0,>=1.6.2->docling==1.16.1) (1.1.0)\r\n",
      "Requirement already satisfied: jsonschema<5.0.0,>=4.16.0 in /Users/cchase/git/github/cfchase/customer-poc/venv/lib/python3.11/site-packages (from docling-core<2.0.0,>=1.6.2->docling==1.16.1) (4.23.0)\r\n",
      "Requirement already satisfied: Pillow<11.0.0,>=10.0.0 in /Users/cchase/git/github/cfchase/customer-poc/venv/lib/python3.11/site-packages (from docling-ibm-models<2.0.0,>=1.3.1->docling==1.16.1) (10.4.0)\r\n",
      "Requirement already satisfied: jsonlines<4.0.0,>=3.1.0 in /Users/cchase/git/github/cfchase/customer-poc/venv/lib/python3.11/site-packages (from docling-ibm-models<2.0.0,>=1.3.1->docling==1.16.1) (3.1.0)\r\n",
      "Requirement already satisfied: lxml<5.0.0,>=4.9.1 in /Users/cchase/git/github/cfchase/customer-poc/venv/lib/python3.11/site-packages (from docling-ibm-models<2.0.0,>=1.3.1->docling==1.16.1) (4.9.4)\r\n",
      "Requirement already satisfied: mean_average_precision<2022.0.0.0,>=2021.4.26.0 in /Users/cchase/git/github/cfchase/customer-poc/venv/lib/python3.11/site-packages (from docling-ibm-models<2.0.0,>=1.3.1->docling==1.16.1) (2021.4.26.0)\r\n",
      "Requirement already satisfied: onnxruntime<2.0.0,>=1.16.2 in /Users/cchase/git/github/cfchase/customer-poc/venv/lib/python3.11/site-packages (from docling-ibm-models<2.0.0,>=1.3.1->docling==1.16.1) (1.19.2)\r\n",
      "Requirement already satisfied: opencv-python-headless<5.0.0.0,>=4.6.0.66 in /Users/cchase/git/github/cfchase/customer-poc/venv/lib/python3.11/site-packages (from docling-ibm-models<2.0.0,>=1.3.1->docling==1.16.1) (4.10.0.84)\r\n",
      "Requirement already satisfied: scikit-image in /Users/cchase/git/github/cfchase/customer-poc/venv/lib/python3.11/site-packages (from easyocr<2.0,>=1.7->docling==1.16.1) (0.24.0)\r\n",
      "Requirement already satisfied: python-bidi in /Users/cchase/git/github/cfchase/customer-poc/venv/lib/python3.11/site-packages (from easyocr<2.0,>=1.7->docling==1.16.1) (0.6.3)\r\n",
      "Requirement already satisfied: PyYAML in /Users/cchase/git/github/cfchase/customer-poc/venv/lib/python3.11/site-packages (from easyocr<2.0,>=1.7->docling==1.16.1) (6.0.2)\r\n",
      "Requirement already satisfied: Shapely in /Users/cchase/git/github/cfchase/customer-poc/venv/lib/python3.11/site-packages (from easyocr<2.0,>=1.7->docling==1.16.1) (2.0.6)\r\n",
      "Requirement already satisfied: pyclipper in /Users/cchase/git/github/cfchase/customer-poc/venv/lib/python3.11/site-packages (from easyocr<2.0,>=1.7->docling==1.16.1) (1.3.0.post6)\r\n",
      "Requirement already satisfied: ninja in /Users/cchase/git/github/cfchase/customer-poc/venv/lib/python3.11/site-packages (from easyocr<2.0,>=1.7->docling==1.16.1) (1.11.1.1)\r\n",
      "Requirement already satisfied: filelock in /Users/cchase/git/github/cfchase/customer-poc/venv/lib/python3.11/site-packages (from huggingface_hub<1,>=0.23->docling==1.16.1) (3.16.1)\r\n",
      "Requirement already satisfied: fsspec>=2023.5.0 in /Users/cchase/git/github/cfchase/customer-poc/venv/lib/python3.11/site-packages (from huggingface_hub<1,>=0.23->docling==1.16.1) (2024.6.1)\r\n",
      "Requirement already satisfied: packaging>=20.9 in /Users/cchase/git/github/cfchase/customer-poc/venv/lib/python3.11/site-packages (from huggingface_hub<1,>=0.23->docling==1.16.1) (24.1)\r\n",
      "Requirement already satisfied: typing-extensions>=3.7.4.3 in /Users/cchase/git/github/cfchase/customer-poc/venv/lib/python3.11/site-packages (from huggingface_hub<1,>=0.23->docling==1.16.1) (4.12.2)\r\n",
      "Requirement already satisfied: annotated-types>=0.6.0 in /Users/cchase/git/github/cfchase/customer-poc/venv/lib/python3.11/site-packages (from pydantic<3.0.0,>=2.0.0->docling==1.16.1) (0.7.0)\r\n",
      "Requirement already satisfied: pydantic-core==2.23.4 in /Users/cchase/git/github/cfchase/customer-poc/venv/lib/python3.11/site-packages (from pydantic<3.0.0,>=2.0.0->docling==1.16.1) (2.23.4)\r\n",
      "Requirement already satisfied: charset-normalizer<4,>=2 in /Users/cchase/git/github/cfchase/customer-poc/venv/lib/python3.11/site-packages (from requests<3.0.0,>=2.32.3->docling==1.16.1) (3.4.0)\r\n",
      "Requirement already satisfied: idna<4,>=2.5 in /Users/cchase/git/github/cfchase/customer-poc/venv/lib/python3.11/site-packages (from requests<3.0.0,>=2.32.3->docling==1.16.1) (3.10)\r\n",
      "Requirement already satisfied: urllib3<3,>=1.21.1 in /Users/cchase/git/github/cfchase/customer-poc/venv/lib/python3.11/site-packages (from requests<3.0.0,>=2.32.3->docling==1.16.1) (2.2.3)\r\n",
      "Requirement already satisfied: jinja2 in /Users/cchase/git/github/cfchase/customer-poc/venv/lib/python3.11/site-packages (from torch<3.0.0,>=2.2.2->docling==1.16.1) (3.1.4)\r\n",
      "Requirement already satisfied: sympy==1.13.1 in /Users/cchase/git/github/cfchase/customer-poc/venv/lib/python3.11/site-packages (from torch<3.0.0,>=2.2.2->docling==1.16.1) (1.13.1)\r\n",
      "Requirement already satisfied: mpmath<1.4,>=1.1.0 in /Users/cchase/git/github/cfchase/customer-poc/venv/lib/python3.11/site-packages (from sympy==1.13.1->torch<3.0.0,>=2.2.2->docling==1.16.1) (1.3.0)\r\n",
      "Requirement already satisfied: click>=8.0.0 in /Users/cchase/git/github/cfchase/customer-poc/venv/lib/python3.11/site-packages (from typer<0.13.0,>=0.12.5->docling==1.16.1) (8.1.7)\r\n",
      "Requirement already satisfied: shellingham>=1.3.0 in /Users/cchase/git/github/cfchase/customer-poc/venv/lib/python3.11/site-packages (from typer<0.13.0,>=0.12.5->docling==1.16.1) (1.5.4)\r\n",
      "Requirement already satisfied: MarkupSafe<3.0,>=2.0 in /Users/cchase/git/github/cfchase/customer-poc/venv/lib/python3.11/site-packages (from json-schema-for-humans<2.0.0,>=1.0.0->docling-core<2.0.0,>=1.6.2->docling==1.16.1) (2.1.5)\r\n",
      "Requirement already satisfied: Pygments<3.0.0,>=2.10.0 in /Users/cchase/git/github/cfchase/customer-poc/venv/lib/python3.11/site-packages (from json-schema-for-humans<2.0.0,>=1.0.0->docling-core<2.0.0,>=1.6.2->docling==1.16.1) (2.18.0)\r\n",
      "Requirement already satisfied: dataclasses-json<0.6.0,>=0.5.6 in /Users/cchase/git/github/cfchase/customer-poc/venv/lib/python3.11/site-packages (from json-schema-for-humans<2.0.0,>=1.0.0->docling-core<2.0.0,>=1.6.2->docling==1.16.1) (0.5.14)\r\n",
      "Requirement already satisfied: htmlmin<0.2.0,>=0.1.12 in /Users/cchase/git/github/cfchase/customer-poc/venv/lib/python3.11/site-packages (from json-schema-for-humans<2.0.0,>=1.0.0->docling-core<2.0.0,>=1.6.2->docling==1.16.1) (0.1.12)\r\n",
      "Requirement already satisfied: markdown2<3.0.0,>=2.4.1 in /Users/cchase/git/github/cfchase/customer-poc/venv/lib/python3.11/site-packages (from json-schema-for-humans<2.0.0,>=1.0.0->docling-core<2.0.0,>=1.6.2->docling==1.16.1) (2.5.1)\r\n",
      "Requirement already satisfied: pytz in /Users/cchase/git/github/cfchase/customer-poc/venv/lib/python3.11/site-packages (from json-schema-for-humans<2.0.0,>=1.0.0->docling-core<2.0.0,>=1.6.2->docling==1.16.1) (2024.2)\r\n",
      "Requirement already satisfied: attrs>=19.2.0 in /Users/cchase/git/github/cfchase/customer-poc/venv/lib/python3.11/site-packages (from jsonlines<4.0.0,>=3.1.0->docling-ibm-models<2.0.0,>=1.3.1->docling==1.16.1) (24.2.0)\r\n",
      "Requirement already satisfied: jsonschema-specifications>=2023.03.6 in /Users/cchase/git/github/cfchase/customer-poc/venv/lib/python3.11/site-packages (from jsonschema<5.0.0,>=4.16.0->docling-core<2.0.0,>=1.6.2->docling==1.16.1) (2024.10.1)\r\n",
      "Requirement already satisfied: referencing>=0.28.4 in /Users/cchase/git/github/cfchase/customer-poc/venv/lib/python3.11/site-packages (from jsonschema<5.0.0,>=4.16.0->docling-core<2.0.0,>=1.6.2->docling==1.16.1) (0.35.1)\r\n",
      "Requirement already satisfied: rpds-py>=0.7.1 in /Users/cchase/git/github/cfchase/customer-poc/venv/lib/python3.11/site-packages (from jsonschema<5.0.0,>=4.16.0->docling-core<2.0.0,>=1.6.2->docling==1.16.1) (0.20.0)\r\n",
      "Requirement already satisfied: contourpy>=1.0.1 in /Users/cchase/git/github/cfchase/customer-poc/venv/lib/python3.11/site-packages (from matplotlib<4.0.0,>=3.7.1->deepsearch-glm<0.22.0,>=0.21.1->docling==1.16.1) (1.3.0)\r\n",
      "Requirement already satisfied: cycler>=0.10 in /Users/cchase/git/github/cfchase/customer-poc/venv/lib/python3.11/site-packages (from matplotlib<4.0.0,>=3.7.1->deepsearch-glm<0.22.0,>=0.21.1->docling==1.16.1) (0.12.1)\r\n",
      "Requirement already satisfied: fonttools>=4.22.0 in /Users/cchase/git/github/cfchase/customer-poc/venv/lib/python3.11/site-packages (from matplotlib<4.0.0,>=3.7.1->deepsearch-glm<0.22.0,>=0.21.1->docling==1.16.1) (4.54.1)\r\n",
      "Requirement already satisfied: kiwisolver>=1.3.1 in /Users/cchase/git/github/cfchase/customer-poc/venv/lib/python3.11/site-packages (from matplotlib<4.0.0,>=3.7.1->deepsearch-glm<0.22.0,>=0.21.1->docling==1.16.1) (1.4.7)\r\n",
      "Requirement already satisfied: pyparsing>=2.3.1 in /Users/cchase/git/github/cfchase/customer-poc/venv/lib/python3.11/site-packages (from matplotlib<4.0.0,>=3.7.1->deepsearch-glm<0.22.0,>=0.21.1->docling==1.16.1) (3.2.0)\r\n",
      "Requirement already satisfied: python-dateutil>=2.7 in /Users/cchase/git/github/cfchase/customer-poc/venv/lib/python3.11/site-packages (from matplotlib<4.0.0,>=3.7.1->deepsearch-glm<0.22.0,>=0.21.1->docling==1.16.1) (2.9.0.post0)\r\n",
      "Requirement already satisfied: simplejson>=3.0 in /Users/cchase/git/github/cfchase/customer-poc/venv/lib/python3.11/site-packages (from netwulf<0.2.0,>=0.1.5->deepsearch-glm<0.22.0,>=0.21.1->docling==1.16.1) (3.19.3)\r\n",
      "Requirement already satisfied: coloredlogs in /Users/cchase/git/github/cfchase/customer-poc/venv/lib/python3.11/site-packages (from onnxruntime<2.0.0,>=1.16.2->docling-ibm-models<2.0.0,>=1.3.1->docling==1.16.1) (15.0.1)\r\n",
      "Requirement already satisfied: flatbuffers in /Users/cchase/git/github/cfchase/customer-poc/venv/lib/python3.11/site-packages (from onnxruntime<2.0.0,>=1.16.2->docling-ibm-models<2.0.0,>=1.3.1->docling==1.16.1) (24.3.25)\r\n",
      "Requirement already satisfied: protobuf in /Users/cchase/git/github/cfchase/customer-poc/venv/lib/python3.11/site-packages (from onnxruntime<2.0.0,>=1.16.2->docling-ibm-models<2.0.0,>=1.3.1->docling==1.16.1) (5.28.2)\r\n",
      "Requirement already satisfied: tzdata>=2022.7 in /Users/cchase/git/github/cfchase/customer-poc/venv/lib/python3.11/site-packages (from pandas>=1.5.1->deepsearch-glm<0.22.0,>=0.21.1->docling==1.16.1) (2024.2)\r\n",
      "Requirement already satisfied: markdown-it-py>=2.2.0 in /Users/cchase/git/github/cfchase/customer-poc/venv/lib/python3.11/site-packages (from rich<14.0.0,>=13.7.0->deepsearch-glm<0.22.0,>=0.21.1->docling==1.16.1) (3.0.0)\r\n",
      "Requirement already satisfied: imageio>=2.33 in /Users/cchase/git/github/cfchase/customer-poc/venv/lib/python3.11/site-packages (from scikit-image->easyocr<2.0,>=1.7->docling==1.16.1) (2.36.0)\r\n",
      "Requirement already satisfied: tifffile>=2022.8.12 in /Users/cchase/git/github/cfchase/customer-poc/venv/lib/python3.11/site-packages (from scikit-image->easyocr<2.0,>=1.7->docling==1.16.1) (2024.9.20)\r\n",
      "Requirement already satisfied: lazy-loader>=0.4 in /Users/cchase/git/github/cfchase/customer-poc/venv/lib/python3.11/site-packages (from scikit-image->easyocr<2.0,>=1.7->docling==1.16.1) (0.4)\r\n",
      "Requirement already satisfied: marshmallow<4.0.0,>=3.18.0 in /Users/cchase/git/github/cfchase/customer-poc/venv/lib/python3.11/site-packages (from dataclasses-json<0.6.0,>=0.5.6->json-schema-for-humans<2.0.0,>=1.0.0->docling-core<2.0.0,>=1.6.2->docling==1.16.1) (3.23.0)\r\n",
      "Requirement already satisfied: typing-inspect<1,>=0.4.0 in /Users/cchase/git/github/cfchase/customer-poc/venv/lib/python3.11/site-packages (from dataclasses-json<0.6.0,>=0.5.6->json-schema-for-humans<2.0.0,>=1.0.0->docling-core<2.0.0,>=1.6.2->docling==1.16.1) (0.9.0)\r\n",
      "Requirement already satisfied: mdurl~=0.1 in /Users/cchase/git/github/cfchase/customer-poc/venv/lib/python3.11/site-packages (from markdown-it-py>=2.2.0->rich<14.0.0,>=13.7.0->deepsearch-glm<0.22.0,>=0.21.1->docling==1.16.1) (0.1.2)\r\n",
      "Requirement already satisfied: six>=1.5 in /Users/cchase/git/github/cfchase/customer-poc/venv/lib/python3.11/site-packages (from python-dateutil>=2.7->matplotlib<4.0.0,>=3.7.1->deepsearch-glm<0.22.0,>=0.21.1->docling==1.16.1) (1.16.0)\r\n",
      "Requirement already satisfied: humanfriendly>=9.1 in /Users/cchase/git/github/cfchase/customer-poc/venv/lib/python3.11/site-packages (from coloredlogs->onnxruntime<2.0.0,>=1.16.2->docling-ibm-models<2.0.0,>=1.3.1->docling==1.16.1) (10.0)\r\n",
      "Requirement already satisfied: mypy-extensions>=0.3.0 in /Users/cchase/git/github/cfchase/customer-poc/venv/lib/python3.11/site-packages (from typing-inspect<1,>=0.4.0->dataclasses-json<0.6.0,>=0.5.6->json-schema-for-humans<2.0.0,>=1.0.0->docling-core<2.0.0,>=1.6.2->docling==1.16.1) (1.0.0)\r\n",
      "\r\n",
      "\u001B[1m[\u001B[0m\u001B[34;49mnotice\u001B[0m\u001B[1;39;49m]\u001B[0m\u001B[39;49m A new release of pip is available: \u001B[0m\u001B[31;49m23.2.1\u001B[0m\u001B[39;49m -> \u001B[0m\u001B[32;49m24.2\u001B[0m\r\n",
      "\u001B[1m[\u001B[0m\u001B[34;49mnotice\u001B[0m\u001B[1;39;49m]\u001B[0m\u001B[39;49m To update, run: \u001B[0m\u001B[32;49mpip install --upgrade pip\u001B[0m\r\n"
     ]
    },
    {
     "name": "stderr",
     "output_type": "stream",
     "text": [
      "huggingface/tokenizers: The current process just got forked, after parallelism has already been used. Disabling parallelism to avoid deadlocks...\n",
      "To disable this warning, you can either:\n",
      "\t- Avoid using `tokenizers` before the fork if possible\n",
      "\t- Explicitly set the environment variable TOKENIZERS_PARALLELISM=(true | false)\n"
     ]
    },
    {
     "name": "stdout",
     "output_type": "stream",
     "text": [
      "Requirement already satisfied: docling-parse==1.3.0 in /Users/cchase/git/github/cfchase/customer-poc/venv/lib/python3.11/site-packages (1.3.0)\r\n",
      "Requirement already satisfied: tabulate<1.0.0,>=0.9.0 in /Users/cchase/git/github/cfchase/customer-poc/venv/lib/python3.11/site-packages (from docling-parse==1.3.0) (0.9.0)\r\n",
      "\r\n",
      "\u001B[1m[\u001B[0m\u001B[34;49mnotice\u001B[0m\u001B[1;39;49m]\u001B[0m\u001B[39;49m A new release of pip is available: \u001B[0m\u001B[31;49m23.2.1\u001B[0m\u001B[39;49m -> \u001B[0m\u001B[32;49m24.2\u001B[0m\r\n",
      "\u001B[1m[\u001B[0m\u001B[34;49mnotice\u001B[0m\u001B[1;39;49m]\u001B[0m\u001B[39;49m To update, run: \u001B[0m\u001B[32;49mpip install --upgrade pip\u001B[0m\r\n",
      "zsh:1: 8.1.7, not found\r\n"
     ]
    },
    {
     "name": "stderr",
     "output_type": "stream",
     "text": [
      "huggingface/tokenizers: The current process just got forked, after parallelism has already been used. Disabling parallelism to avoid deadlocks...\n",
      "To disable this warning, you can either:\n",
      "\t- Avoid using `tokenizers` before the fork if possible\n",
      "\t- Explicitly set the environment variable TOKENIZERS_PARALLELISM=(true | false)\n",
      "huggingface/tokenizers: The current process just got forked, after parallelism has already been used. Disabling parallelism to avoid deadlocks...\n",
      "To disable this warning, you can either:\n",
      "\t- Avoid using `tokenizers` before the fork if possible\n",
      "\t- Explicitly set the environment variable TOKENIZERS_PARALLELISM=(true | false)\n"
     ]
    },
    {
     "name": "stdout",
     "output_type": "stream",
     "text": [
      "Requirement already satisfied: tabulate in /Users/cchase/git/github/cfchase/customer-poc/venv/lib/python3.11/site-packages (0.9.0)\r\n",
      "\r\n",
      "\u001B[1m[\u001B[0m\u001B[34;49mnotice\u001B[0m\u001B[1;39;49m]\u001B[0m\u001B[39;49m A new release of pip is available: \u001B[0m\u001B[31;49m23.2.1\u001B[0m\u001B[39;49m -> \u001B[0m\u001B[32;49m24.2\u001B[0m\r\n",
      "\u001B[1m[\u001B[0m\u001B[34;49mnotice\u001B[0m\u001B[1;39;49m]\u001B[0m\u001B[39;49m To update, run: \u001B[0m\u001B[32;49mpip install --upgrade pip\u001B[0m\r\n"
     ]
    },
    {
     "name": "stderr",
     "output_type": "stream",
     "text": [
      "huggingface/tokenizers: The current process just got forked, after parallelism has already been used. Disabling parallelism to avoid deadlocks...\n",
      "To disable this warning, you can either:\n",
      "\t- Avoid using `tokenizers` before the fork if possible\n",
      "\t- Explicitly set the environment variable TOKENIZERS_PARALLELISM=(true | false)\n"
     ]
    },
    {
     "name": "stdout",
     "output_type": "stream",
     "text": [
      "Requirement already satisfied: transformers in /Users/cchase/git/github/cfchase/customer-poc/venv/lib/python3.11/site-packages (4.45.2)\r\n",
      "Requirement already satisfied: filelock in /Users/cchase/git/github/cfchase/customer-poc/venv/lib/python3.11/site-packages (from transformers) (3.16.1)\r\n",
      "Requirement already satisfied: huggingface-hub<1.0,>=0.23.2 in /Users/cchase/git/github/cfchase/customer-poc/venv/lib/python3.11/site-packages (from transformers) (0.26.1)\r\n",
      "Requirement already satisfied: numpy>=1.17 in /Users/cchase/git/github/cfchase/customer-poc/venv/lib/python3.11/site-packages (from transformers) (1.26.4)\r\n",
      "Requirement already satisfied: packaging>=20.0 in /Users/cchase/git/github/cfchase/customer-poc/venv/lib/python3.11/site-packages (from transformers) (24.1)\r\n",
      "Requirement already satisfied: pyyaml>=5.1 in /Users/cchase/git/github/cfchase/customer-poc/venv/lib/python3.11/site-packages (from transformers) (6.0.2)\r\n",
      "Requirement already satisfied: regex!=2019.12.17 in /Users/cchase/git/github/cfchase/customer-poc/venv/lib/python3.11/site-packages (from transformers) (2024.9.11)\r\n",
      "Requirement already satisfied: requests in /Users/cchase/git/github/cfchase/customer-poc/venv/lib/python3.11/site-packages (from transformers) (2.32.3)\r\n",
      "Requirement already satisfied: safetensors>=0.4.1 in /Users/cchase/git/github/cfchase/customer-poc/venv/lib/python3.11/site-packages (from transformers) (0.4.5)\r\n",
      "Requirement already satisfied: tokenizers<0.21,>=0.20 in /Users/cchase/git/github/cfchase/customer-poc/venv/lib/python3.11/site-packages (from transformers) (0.20.1)\r\n",
      "Requirement already satisfied: tqdm>=4.27 in /Users/cchase/git/github/cfchase/customer-poc/venv/lib/python3.11/site-packages (from transformers) (4.66.5)\r\n",
      "Requirement already satisfied: fsspec>=2023.5.0 in /Users/cchase/git/github/cfchase/customer-poc/venv/lib/python3.11/site-packages (from huggingface-hub<1.0,>=0.23.2->transformers) (2024.6.1)\r\n",
      "Requirement already satisfied: typing-extensions>=3.7.4.3 in /Users/cchase/git/github/cfchase/customer-poc/venv/lib/python3.11/site-packages (from huggingface-hub<1.0,>=0.23.2->transformers) (4.12.2)\r\n",
      "Requirement already satisfied: charset-normalizer<4,>=2 in /Users/cchase/git/github/cfchase/customer-poc/venv/lib/python3.11/site-packages (from requests->transformers) (3.4.0)\r\n",
      "Requirement already satisfied: idna<4,>=2.5 in /Users/cchase/git/github/cfchase/customer-poc/venv/lib/python3.11/site-packages (from requests->transformers) (3.10)\r\n",
      "Requirement already satisfied: urllib3<3,>=1.21.1 in /Users/cchase/git/github/cfchase/customer-poc/venv/lib/python3.11/site-packages (from requests->transformers) (2.2.3)\r\n",
      "Requirement already satisfied: certifi>=2017.4.17 in /Users/cchase/git/github/cfchase/customer-poc/venv/lib/python3.11/site-packages (from requests->transformers) (2024.8.30)\r\n",
      "\r\n",
      "\u001B[1m[\u001B[0m\u001B[34;49mnotice\u001B[0m\u001B[1;39;49m]\u001B[0m\u001B[39;49m A new release of pip is available: \u001B[0m\u001B[31;49m23.2.1\u001B[0m\u001B[39;49m -> \u001B[0m\u001B[32;49m24.2\u001B[0m\r\n",
      "\u001B[1m[\u001B[0m\u001B[34;49mnotice\u001B[0m\u001B[1;39;49m]\u001B[0m\u001B[39;49m To update, run: \u001B[0m\u001B[32;49mpip install --upgrade pip\u001B[0m\r\n"
     ]
    },
    {
     "name": "stderr",
     "output_type": "stream",
     "text": [
      "huggingface/tokenizers: The current process just got forked, after parallelism has already been used. Disabling parallelism to avoid deadlocks...\n",
      "To disable this warning, you can either:\n",
      "\t- Avoid using `tokenizers` before the fork if possible\n",
      "\t- Explicitly set the environment variable TOKENIZERS_PARALLELISM=(true | false)\n"
     ]
    },
    {
     "name": "stdout",
     "output_type": "stream",
     "text": [
      "Requirement already satisfied: ruamel.yaml in /Users/cchase/git/github/cfchase/customer-poc/venv/lib/python3.11/site-packages (0.18.6)\r\n",
      "Requirement already satisfied: ruamel.yaml.clib>=0.2.7 in /Users/cchase/git/github/cfchase/customer-poc/venv/lib/python3.11/site-packages (from ruamel.yaml) (0.2.12)\r\n",
      "\r\n",
      "\u001B[1m[\u001B[0m\u001B[34;49mnotice\u001B[0m\u001B[1;39;49m]\u001B[0m\u001B[39;49m A new release of pip is available: \u001B[0m\u001B[31;49m23.2.1\u001B[0m\u001B[39;49m -> \u001B[0m\u001B[32;49m24.2\u001B[0m\r\n",
      "\u001B[1m[\u001B[0m\u001B[34;49mnotice\u001B[0m\u001B[1;39;49m]\u001B[0m\u001B[39;49m To update, run: \u001B[0m\u001B[32;49mpip install --upgrade pip\u001B[0m\r\n"
     ]
    }
   ],
   "execution_count": 20
  },
  {
   "metadata": {
    "ExecuteTime": {
     "end_time": "2024-10-21T18:25:44.166434Z",
     "start_time": "2024-10-21T18:25:44.161966Z"
    }
   },
   "cell_type": "code",
   "source": [
    "# Standard\n",
    "from pathlib import Path\n",
    "from typing import Iterable\n",
    "import json\n",
    "import time\n",
    "import os\n",
    "\n",
    "# Third Party\n",
    "from docling.datamodel.base_models import ConversionStatus\n",
    "from docling.datamodel.document import ConvertedDocument, DocumentConversionInput\n",
    "from docling.document_converter import DocumentConverter\n",
    "from utils.logger_config import setup_logger\n",
    "import click\n",
    "import pandas as pd\n",
    "\n",
    "# Local\n",
    "from utils.docprocessor import DocProcessor\n",
    "\n",
    "def export_documents(\n",
    "        converted_docs: Iterable[ConvertedDocument],\n",
    "        output_dir: Path,\n",
    "):\n",
    "    output_dir.mkdir(parents=True, exist_ok=True)\n",
    "\n",
    "    success_count = 0\n",
    "    failure_count = 0\n",
    "\n",
    "    for doc in converted_docs:\n",
    "        if doc.status == ConversionStatus.SUCCESS:\n",
    "            success_count += 1\n",
    "            doc_filename = doc.input.file.stem\n",
    "\n",
    "            # Export Deep Search document JSON format:\n",
    "            with (output_dir / f\"{doc_filename}.json\").open(\"w\") as fp:\n",
    "                fp.write(json.dumps(doc.render_as_dict()))\n",
    "\n",
    "            # Export Markdown format:\n",
    "            with (output_dir / f\"{doc_filename}.md\").open(\"w\") as fp:\n",
    "                fp.write(doc.render_as_markdown())\n",
    "        else:\n",
    "            print(f\"Document {doc.input.file} failed to convert.\")\n",
    "            failure_count += 1\n",
    "\n",
    "    print(\n",
    "        f\"Processed {success_count + failure_count} docs, of which {failure_count} failed\"\n",
    "    )\n",
    "\n",
    "    return doc_filename"
   ],
   "outputs": [],
   "execution_count": 21
  },
  {
   "metadata": {
    "ExecuteTime": {
     "end_time": "2024-10-21T18:25:44.174629Z",
     "start_time": "2024-10-21T18:25:44.171999Z"
    }
   },
   "cell_type": "code",
   "source": [
    "from dotenv import load_dotenv\n",
    "import os\n",
    "\n",
    "load_dotenv(override=True)\n",
    "\n",
    "# Access the variables\n",
    "input_dir = Path(os.getenv('INPUT_DIR'))\n",
    "output_dir = Path(os.getenv('OUTPUT_DIR'))\n",
    "os.makedirs(output_dir, exist_ok=True)"
   ],
   "outputs": [],
   "execution_count": 22
  },
  {
   "metadata": {},
   "cell_type": "markdown",
   "source": [
    "### Setup Instructions\n",
    "\n",
    "This demo demonstrates the process of converting raw PDF files into InstructLab Synthetic Knowledge Infusion Data using the RBC POC as an example. Follow these steps to get started with your own data.\n",
    "\n",
    "#### Steps to Get Started:\n",
    "\n",
    "1. **Organize Your Documents:**\n",
    "   - Create a new directory under the `document_collection` directory for your specific project. For example, if your project is named \"my_org,\" your directory structure should look like this:\n",
    "     ```\n",
    "     |-- document_collection\n",
    "     |   `-- my_org\n",
    "     |       |-- my_org_data.pdf\n",
    "     |       `-- qna.yaml\n",
    "     ```\n",
    "   - Place all your PDF files and ICL files (like `qna.yaml`) into this directory.\n",
    "\n",
    "2. **Format Your ICLs:**\n",
    "   - Ensure your ICL files contain sufficient context and question-answer pairs. We recommend including at least 5 distinct contexts, each with a minimum of 3 sets of questions and answers. More entries will improve the robustness of your data.\n",
    "    - The ICL file should be in the following format (refer to the `document_collection/my_org/qna.yaml` file for an example):\n",
    "\n",
    "    ```yaml\n",
    "    domain: \n",
    "    document_outline: A one to two line description of the document\n",
    "    seed_examples:\n",
    "      - context: <context 1 goes here>\n",
    "        question_and_answers:\n",
    "          - question: <question 1 goes here>\n",
    "            answer: <answer 1 goes here>\n",
    "          - question: <question 2 goes here>\n",
    "            answer: <answer 2 goes here>\n",
    "          - question: <question 3 goes here>\n",
    "            answer: <answer 3 goes here>\n",
    "    ... \n",
    "\n",
    "\n",
    "   - **Note:** Replace placeholders with actual content relevant to your documents. Ensure the contexts are clear and questions are well-formulated to extract meaningful answers.\n",
    "\n",
    "3. **Update the Data Directory Path:**\n",
    "   - In the script or code where the data directory is specified, update the `input_dir` variable to reflect the path to your new directory. For example:\n",
    "     ```python\n",
    "     data_dir = \"document_collection/my_org\"\n",
    "     ```\n",
    "4. **Update the Output Directory Path:**\n",
    "   - In the script or code where the data directory is specified, update the `output_dir` variable to reflect the path to your directory. For example:\n",
    "     ```python\n",
    "     data_dir = \"output/my_org\"\n",
    "     ```\n",
    "---"
   ]
  },
  {
   "cell_type": "markdown",
   "metadata": {},
   "source": [
    "### PDF Documents to Seed Dataset\n",
    "\n",
    "To convert PDF documents into a usable seed dataset, we employ [Docling](https://github.com/DS4SD/docling), a tool designed for extracting and processing text from PDF files. The text extraction process involves parsing the PDF documents and saving the extracted text into a structured JSON file. The extracted text in JSON format can be used to generate InstructLab Synthetic Knowledge Infusion Data.\n",
    "\n",
    "\n",
    "#### Step 1: \n",
    "\n",
    "Run the following command to extract text from the PDF documents and save it in JSON format:\n",
    "\n",
    "⚠️ **Note:** This process takes about 5 minutes to run for this example\n"
   ]
  },
  {
   "metadata": {
    "ExecuteTime": {
     "end_time": "2024-10-21T18:25:59.137342Z",
     "start_time": "2024-10-21T18:25:44.181471Z"
    }
   },
   "cell_type": "code",
   "source": [
    "file_paths = list(input_dir.glob(\"*.pdf\"))\n",
    "artifacts_path = DocumentConverter.download_models_hf()\n",
    "doc_converter = DocumentConverter(artifacts_path=artifacts_path)\n",
    "inputs = DocumentConversionInput.from_paths(file_paths)\n",
    "\n",
    "start_time = time.time()\n",
    "converted_docs = doc_converter.convert(inputs)\n",
    "doc_filename = export_documents(converted_docs, output_dir)\n",
    "end_time = time.time()\n",
    "\n",
    "print(f\"Parsing documents took {end_time - start_time:.2f} seconds\")\n",
    "\n",
    "dp = DocProcessor(output_dir, user_config_path=f'{input_dir}/qna.yaml')\n",
    "seed_data = dp.get_processed_dataset()\n",
    "\n",
    "seed_data.to_json(f'{output_dir}/seed_data.jsonl', orient='records', lines=True)\n",
    "\n",
    "md_output_dir = f\"{output_dir}/md\"\n",
    "os.makedirs(md_output_dir, exist_ok=True)\n",
    "\n",
    "jsonl_file_path = f\"{output_dir}/seed_data.jsonl\""
   ],
   "outputs": [
    {
     "name": "stderr",
     "output_type": "stream",
     "text": [
      "Fetching 10 files: 100%|██████████| 10/10 [00:00<00:00, 69098.91it/s]\n"
     ]
    },
    {
     "name": "stdout",
     "output_type": "stream",
     "text": [
      "Processed 1 docs, of which 0 failed\n",
      "Parsing documents took 12.24 seconds\n"
     ]
    },
    {
     "name": "stderr",
     "output_type": "stream",
     "text": [
      "Map: 100%|██████████| 29/29 [00:00<00:00, 11503.20 examples/s]\n",
      "Map: 100%|██████████| 29/29 [00:00<00:00, 10515.68 examples/s]\n",
      "Map: 100%|██████████| 58/58 [00:00<00:00, 2190.83 examples/s]\n",
      "Filter: 100%|██████████| 58/58 [00:00<00:00, 3913.10 examples/s]\n",
      "Creating json from Arrow format: 100%|██████████| 1/1 [00:00<00:00, 547.06ba/s]\n"
     ]
    }
   ],
   "execution_count": 23
  },
  {
   "metadata": {},
   "cell_type": "markdown",
   "source": "### Convert JSONL to markdown files"
  },
  {
   "metadata": {
    "ExecuteTime": {
     "end_time": "2024-10-21T18:25:59.143316Z",
     "start_time": "2024-10-21T18:25:59.141722Z"
    }
   },
   "cell_type": "code",
   "source": [
    "import pandas as pd\n",
    "import os\n",
    "import json\n",
    "\n",
    "# Create the output directory if it doesn't exist\n",
    "md_output_dir = f\"{output_dir}/md\"\n",
    "os.makedirs(md_output_dir, exist_ok=True)\n"
   ],
   "outputs": [],
   "execution_count": 24
  },
  {
   "metadata": {
    "ExecuteTime": {
     "end_time": "2024-10-21T18:25:59.149144Z",
     "start_time": "2024-10-21T18:25:59.147183Z"
    }
   },
   "cell_type": "code",
   "source": [
    "def save_document(index, document_text):\n",
    "    file_name = f\"document_{index+1}.md\"\n",
    "    file_path = os.path.join(md_output_dir, file_name)\n",
    "    \n",
    "    with open(file_path, 'w') as f:\n",
    "        f.write(document_text)\n",
    "    \n",
    "    print(f\"Saved {file_path}\")\n"
   ],
   "outputs": [],
   "execution_count": 25
  },
  {
   "metadata": {
    "ExecuteTime": {
     "end_time": "2024-10-21T18:25:59.154254Z",
     "start_time": "2024-10-21T18:25:59.152847Z"
    }
   },
   "cell_type": "code",
   "source": "jsonl_file_path = f\"{output_dir}/seed_data.jsonl\"",
   "outputs": [],
   "execution_count": 26
  },
  {
   "metadata": {
    "ExecuteTime": {
     "end_time": "2024-10-21T18:25:59.164476Z",
     "start_time": "2024-10-21T18:25:59.159327Z"
    }
   },
   "cell_type": "code",
   "source": [
    "with open(jsonl_file_path, 'r') as f:\n",
    "    saved_hashes = set()\n",
    "    i = 0\n",
    "    for line in f:\n",
    "        entry = json.loads(line)\n",
    "        document_text = entry.get('document', '')\n",
    "        h = hash(document_text)\n",
    "        if h not in saved_hashes:\n",
    "            saved_hashes.add(h)\n",
    "            save_document(i, document_text)\n",
    "            i += 1"
   ],
   "outputs": [
    {
     "name": "stdout",
     "output_type": "stream",
     "text": [
      "Saved output/Mastercard/md/document_1.md\n",
      "Saved output/Mastercard/md/document_2.md\n",
      "Saved output/Mastercard/md/document_3.md\n",
      "Saved output/Mastercard/md/document_4.md\n",
      "Saved output/Mastercard/md/document_5.md\n",
      "Saved output/Mastercard/md/document_6.md\n",
      "Saved output/Mastercard/md/document_7.md\n",
      "Saved output/Mastercard/md/document_8.md\n",
      "Saved output/Mastercard/md/document_9.md\n",
      "Saved output/Mastercard/md/document_10.md\n",
      "Saved output/Mastercard/md/document_11.md\n",
      "Saved output/Mastercard/md/document_12.md\n",
      "Saved output/Mastercard/md/document_13.md\n",
      "Saved output/Mastercard/md/document_14.md\n",
      "Saved output/Mastercard/md/document_15.md\n",
      "Saved output/Mastercard/md/document_16.md\n",
      "Saved output/Mastercard/md/document_17.md\n",
      "Saved output/Mastercard/md/document_18.md\n",
      "Saved output/Mastercard/md/document_19.md\n",
      "Saved output/Mastercard/md/document_20.md\n",
      "Saved output/Mastercard/md/document_21.md\n",
      "Saved output/Mastercard/md/document_22.md\n",
      "Saved output/Mastercard/md/document_23.md\n",
      "Saved output/Mastercard/md/document_24.md\n",
      "Saved output/Mastercard/md/document_25.md\n",
      "Saved output/Mastercard/md/document_26.md\n",
      "Saved output/Mastercard/md/document_27.md\n",
      "Saved output/Mastercard/md/document_28.md\n",
      "Saved output/Mastercard/md/document_29.md\n"
     ]
    }
   ],
   "execution_count": 27
  },
  {
   "metadata": {
    "ExecuteTime": {
     "end_time": "2024-10-21T18:25:59.170477Z",
     "start_time": "2024-10-21T18:25:59.169246Z"
    }
   },
   "cell_type": "code",
   "source": "",
   "outputs": [],
   "execution_count": null
  }
 ],
 "metadata": {
  "kernelspec": {
   "display_name": "rbc_demo",
   "language": "python",
   "name": "python3"
  },
  "language_info": {
   "codemirror_mode": {
    "name": "ipython",
    "version": 3
   },
   "file_extension": ".py",
   "mimetype": "text/x-python",
   "name": "python",
   "nbconvert_exporter": "python",
   "pygments_lexer": "ipython3",
   "version": "3.11.9"
  }
 },
 "nbformat": 4,
 "nbformat_minor": 2
}
